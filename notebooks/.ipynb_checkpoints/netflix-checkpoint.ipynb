{
 "cells": [
  {
   "cell_type": "code",
   "execution_count": 1,
   "metadata": {},
   "outputs": [],
   "source": [
    "import pandas as pd"
   ]
  },
  {
   "cell_type": "markdown",
   "metadata": {},
   "source": [
    "# Original Dataset"
   ]
  },
  {
   "cell_type": "code",
   "execution_count": 4,
   "metadata": {},
   "outputs": [
    {
     "data": {
      "text/html": [
       "<div>\n",
       "<style scoped>\n",
       "    .dataframe tbody tr th:only-of-type {\n",
       "        vertical-align: middle;\n",
       "    }\n",
       "\n",
       "    .dataframe tbody tr th {\n",
       "        vertical-align: top;\n",
       "    }\n",
       "\n",
       "    .dataframe thead th {\n",
       "        text-align: right;\n",
       "    }\n",
       "</style>\n",
       "<table border=\"1\" class=\"dataframe\">\n",
       "  <thead>\n",
       "    <tr style=\"text-align: right;\">\n",
       "      <th></th>\n",
       "      <th>show_id</th>\n",
       "      <th>type</th>\n",
       "      <th>title</th>\n",
       "      <th>director</th>\n",
       "      <th>cast</th>\n",
       "      <th>country</th>\n",
       "      <th>date_added</th>\n",
       "      <th>release_year</th>\n",
       "      <th>rating</th>\n",
       "      <th>duration</th>\n",
       "      <th>listed_in</th>\n",
       "      <th>description</th>\n",
       "    </tr>\n",
       "  </thead>\n",
       "  <tbody>\n",
       "    <tr>\n",
       "      <th>0</th>\n",
       "      <td>s1</td>\n",
       "      <td>Movie</td>\n",
       "      <td>Dick Johnson Is Dead</td>\n",
       "      <td>Kirsten Johnson</td>\n",
       "      <td>NaN</td>\n",
       "      <td>United States</td>\n",
       "      <td>September 25, 2021</td>\n",
       "      <td>2020</td>\n",
       "      <td>PG-13</td>\n",
       "      <td>90 min</td>\n",
       "      <td>Documentaries</td>\n",
       "      <td>As her father nears the end of his life, filmm...</td>\n",
       "    </tr>\n",
       "    <tr>\n",
       "      <th>1</th>\n",
       "      <td>s2</td>\n",
       "      <td>TV Show</td>\n",
       "      <td>Blood &amp; Water</td>\n",
       "      <td>NaN</td>\n",
       "      <td>Ama Qamata, Khosi Ngema, Gail Mabalane, Thaban...</td>\n",
       "      <td>South Africa</td>\n",
       "      <td>September 24, 2021</td>\n",
       "      <td>2021</td>\n",
       "      <td>TV-MA</td>\n",
       "      <td>2 Seasons</td>\n",
       "      <td>International TV Shows, TV Dramas, TV Mysteries</td>\n",
       "      <td>After crossing paths at a party, a Cape Town t...</td>\n",
       "    </tr>\n",
       "    <tr>\n",
       "      <th>2</th>\n",
       "      <td>s3</td>\n",
       "      <td>TV Show</td>\n",
       "      <td>Ganglands</td>\n",
       "      <td>Julien Leclercq</td>\n",
       "      <td>Sami Bouajila, Tracy Gotoas, Samuel Jouy, Nabi...</td>\n",
       "      <td>NaN</td>\n",
       "      <td>September 24, 2021</td>\n",
       "      <td>2021</td>\n",
       "      <td>TV-MA</td>\n",
       "      <td>1 Season</td>\n",
       "      <td>Crime TV Shows, International TV Shows, TV Act...</td>\n",
       "      <td>To protect his family from a powerful drug lor...</td>\n",
       "    </tr>\n",
       "    <tr>\n",
       "      <th>3</th>\n",
       "      <td>s4</td>\n",
       "      <td>TV Show</td>\n",
       "      <td>Jailbirds New Orleans</td>\n",
       "      <td>NaN</td>\n",
       "      <td>NaN</td>\n",
       "      <td>NaN</td>\n",
       "      <td>September 24, 2021</td>\n",
       "      <td>2021</td>\n",
       "      <td>TV-MA</td>\n",
       "      <td>1 Season</td>\n",
       "      <td>Docuseries, Reality TV</td>\n",
       "      <td>Feuds, flirtations and toilet talk go down amo...</td>\n",
       "    </tr>\n",
       "    <tr>\n",
       "      <th>4</th>\n",
       "      <td>s5</td>\n",
       "      <td>TV Show</td>\n",
       "      <td>Kota Factory</td>\n",
       "      <td>NaN</td>\n",
       "      <td>Mayur More, Jitendra Kumar, Ranjan Raj, Alam K...</td>\n",
       "      <td>India</td>\n",
       "      <td>September 24, 2021</td>\n",
       "      <td>2021</td>\n",
       "      <td>TV-MA</td>\n",
       "      <td>2 Seasons</td>\n",
       "      <td>International TV Shows, Romantic TV Shows, TV ...</td>\n",
       "      <td>In a city of coaching centers known to train I...</td>\n",
       "    </tr>\n",
       "  </tbody>\n",
       "</table>\n",
       "</div>"
      ],
      "text/plain": [
       "  show_id     type                  title         director  \\\n",
       "0      s1    Movie   Dick Johnson Is Dead  Kirsten Johnson   \n",
       "1      s2  TV Show          Blood & Water              NaN   \n",
       "2      s3  TV Show              Ganglands  Julien Leclercq   \n",
       "3      s4  TV Show  Jailbirds New Orleans              NaN   \n",
       "4      s5  TV Show           Kota Factory              NaN   \n",
       "\n",
       "                                                cast        country  \\\n",
       "0                                                NaN  United States   \n",
       "1  Ama Qamata, Khosi Ngema, Gail Mabalane, Thaban...   South Africa   \n",
       "2  Sami Bouajila, Tracy Gotoas, Samuel Jouy, Nabi...            NaN   \n",
       "3                                                NaN            NaN   \n",
       "4  Mayur More, Jitendra Kumar, Ranjan Raj, Alam K...          India   \n",
       "\n",
       "           date_added  release_year rating   duration  \\\n",
       "0  September 25, 2021          2020  PG-13     90 min   \n",
       "1  September 24, 2021          2021  TV-MA  2 Seasons   \n",
       "2  September 24, 2021          2021  TV-MA   1 Season   \n",
       "3  September 24, 2021          2021  TV-MA   1 Season   \n",
       "4  September 24, 2021          2021  TV-MA  2 Seasons   \n",
       "\n",
       "                                           listed_in  \\\n",
       "0                                      Documentaries   \n",
       "1    International TV Shows, TV Dramas, TV Mysteries   \n",
       "2  Crime TV Shows, International TV Shows, TV Act...   \n",
       "3                             Docuseries, Reality TV   \n",
       "4  International TV Shows, Romantic TV Shows, TV ...   \n",
       "\n",
       "                                         description  \n",
       "0  As her father nears the end of his life, filmm...  \n",
       "1  After crossing paths at a party, a Cape Town t...  \n",
       "2  To protect his family from a powerful drug lor...  \n",
       "3  Feuds, flirtations and toilet talk go down amo...  \n",
       "4  In a city of coaching centers known to train I...  "
      ]
     },
     "execution_count": 4,
     "metadata": {},
     "output_type": "execute_result"
    }
   ],
   "source": [
    "# Import netflix data\n",
    "\"\"\"\n",
    "Kaggle link: https://www.kaggle.com/datasets/shivamb/netflix-shows\n",
    "\n",
    "Dataset:\n",
    "show_id (text_format): Unique ID for every Movie / Tv Show\n",
    "type (text_format): Identifier - A Movie or TV Show\n",
    "title (text_format): Title of the Movie / Tv Show\n",
    "director (text_format): Director of the Movie\n",
    "cast (text_format): Actors involved in the movie / show\n",
    "country (calendar_today): Country where the movie / show was produced\n",
    "date_added (grid_3x3): Date it was added on Netflix\n",
    "release_year (text_format): Actual Release year of the move / show\n",
    "rating (text_format): TV Rating of the movie / show\n",
    "duration (text_format): Total Duration - in minutes or number of seasons\n",
    "listed_in (text_format): Genere\n",
    "description (text_format): The summary description\n",
    "\"\"\"\n",
    "netflix_data = pd.read_csv('datasets/netflix.csv')\n",
    "netflix_data.head()"
   ]
  },
  {
   "cell_type": "code",
   "execution_count": 68,
   "metadata": {},
   "outputs": [
    {
     "data": {
      "text/plain": [
       "<AxesSubplot:>"
      ]
     },
     "execution_count": 68,
     "metadata": {},
     "output_type": "execute_result"
    },
    {
     "data": {
      "image/png": "[encoded data removed]",
      "text/plain": [
       "<Figure size 432x288 with 1 Axes>"
      ]
     },
     "metadata": {
      "needs_background": "light"
     },
     "output_type": "display_data"
    }
   ],
   "source": [
    "# We may get just one type\n",
    "netflix_data.type.value_counts().plot.bar()"
   ]
  },
  {
   "cell_type": "code",
   "execution_count": 24,
   "metadata": {},
   "outputs": [
    {
     "data": {
      "text/plain": [
       "Rajiv Chilaka             19\n",
       "Raúl Campos, Jan Suter    18\n",
       "Marcus Raboy              16\n",
       "Suhas Kadav               16\n",
       "Jay Karas                 14\n",
       "                          ..\n",
       "David Silberg              1\n",
       "Mark Zwonitzer             1\n",
       "Amman Abbasi               1\n",
       "Clay Porter                1\n",
       "Dan Fraga, William Lau     1\n",
       "Name: director, Length: 4528, dtype: int64"
      ]
     },
     "execution_count": 24,
     "metadata": {},
     "output_type": "execute_result"
    }
   ],
   "source": [
    "netflix_data.director.value_counts()"
   ]
  },
  {
   "cell_type": "code",
   "execution_count": 36,
   "metadata": {
    "scrolled": false
   },
   "outputs": [
    {
     "data": {
      "text/plain": [
       "David Attenborough                                                                                                                                            19\n",
       "Vatsal Dubey, Julie Tejwani, Rupa Bhimani, Jigna Bhardwaj, Rajesh Kava, Mousam, Swapnil                                                                       14\n",
       "Samuel West                                                                                                                                                   10\n",
       "Jeff Dunham                                                                                                                                                    7\n",
       "David Spade, London Hughes, Fortune Feimster                                                                                                                   6\n",
       "                                                                                                                                                              ..\n",
       "Judah Lewis, Jenna Ortega, Emily Alyn Lind, Andrew Bachelor, Robbie Amell, Bella Thorne, Hana Mae Lee, Ken Marino, Leslie Bibb, Chris Wylde, Carl McDowell     1\n",
       "Shay Mitchell, Liza Soberano, Jon Jon Briones, Darren Criss, Manny Jacinto, Dante Basco, Nicole Scherzinger, Lou Diamond Phillips, Steve Blum                  1\n",
       "Ceaser Emanuel, Dutchess Lattimore, Puma Robinson, Alex Estevez, Sassy Bermudez                                                                                1\n",
       "Russell Curry, Hunter Deno, Kai Moya, Tessa Rao, Chance Perez, Shavaughn Ruakere, Blair Strang                                                                 1\n",
       "Edward Asner, Judy Greer, Erin Fitzgerald, Fred Tatasciore, Jeff Gill, Gregg Spiridellis, Evan Spiridellis, Jim Meskimen, Nate Theis                           1\n",
       "Name: cast, Length: 7692, dtype: int64"
      ]
     },
     "execution_count": 36,
     "metadata": {},
     "output_type": "execute_result"
    }
   ],
   "source": [
    "# We should separate the list\n",
    "netflix_data.cast.value_counts()"
   ]
  },
  {
   "cell_type": "code",
   "execution_count": 41,
   "metadata": {},
   "outputs": [
    {
     "data": {
      "text/plain": [
       "United States                    2818\n",
       "India                             972\n",
       "United Kingdom                    419\n",
       "Japan                             245\n",
       "South Korea                       199\n",
       "Canada                            181\n",
       "Spain                             145\n",
       "France                            124\n",
       "Mexico                            110\n",
       "Egypt                             106\n",
       "Turkey                            105\n",
       "Nigeria                            95\n",
       "Australia                          87\n",
       "Taiwan                             81\n",
       "Indonesia                          79\n",
       "Brazil                             77\n",
       "Philippines                        75\n",
       "United Kingdom, United States      75\n",
       "United States, Canada              73\n",
       "Germany                            67\n",
       "Name: country, dtype: int64"
      ]
     },
     "execution_count": 41,
     "metadata": {},
     "output_type": "execute_result"
    }
   ],
   "source": [
    "# Country is very unbalanced, maybe group by US, NOT_US\n",
    "netflix_data.country.value_counts().head(20)"
   ]
  },
  {
   "cell_type": "code",
   "execution_count": 27,
   "metadata": {},
   "outputs": [
    {
     "data": {
      "text/plain": [
       "January 1, 2020      109\n",
       "November 1, 2019      89\n",
       "March 1, 2018         75\n",
       "December 31, 2019     74\n",
       "October 1, 2018       71\n",
       "                    ... \n",
       "February 14, 2021      1\n",
       "October 31, 2015       1\n",
       " April 4, 2017         1\n",
       " December 1, 2018      1\n",
       "March 7, 2017          1\n",
       "Name: date_added, Length: 1767, dtype: int64"
      ]
     },
     "execution_count": 27,
     "metadata": {},
     "output_type": "execute_result"
    }
   ],
   "source": [
    "# Maybe get just the year\n",
    "netflix_data.date_added.value_counts()"
   ]
  },
  {
   "cell_type": "code",
   "execution_count": 33,
   "metadata": {},
   "outputs": [
    {
     "data": {
      "text/plain": [
       "2018    1147\n",
       "2017    1032\n",
       "2019    1030\n",
       "2020     953\n",
       "2016     902\n",
       "        ... \n",
       "1966       1\n",
       "1925       1\n",
       "1947       1\n",
       "1959       1\n",
       "1961       1\n",
       "Name: release_year, Length: 74, dtype: int64"
      ]
     },
     "execution_count": 33,
     "metadata": {},
     "output_type": "execute_result"
    }
   ],
   "source": [
    "# We should it group by somehow, maybe by decade, groups of 5 years or just 2000-\n",
    "netflix_data.release_year.value_counts()"
   ]
  },
  {
   "cell_type": "code",
   "execution_count": 35,
   "metadata": {},
   "outputs": [
    {
     "data": {
      "text/plain": [
       "TV-MA       3207\n",
       "TV-14       2160\n",
       "TV-PG        863\n",
       "R            799\n",
       "PG-13        490\n",
       "TV-Y7        334\n",
       "TV-Y         307\n",
       "PG           287\n",
       "TV-G         220\n",
       "NR            80\n",
       "G             41\n",
       "TV-Y7-FV       6\n",
       "NC-17          3\n",
       "UR             3\n",
       "74 min         1\n",
       "84 min         1\n",
       "66 min         1\n",
       "Name: rating, dtype: int64"
      ]
     },
     "execution_count": 35,
     "metadata": {},
     "output_type": "execute_result"
    }
   ],
   "source": [
    "# What is it?\n",
    "netflix_data.rating.value_counts()"
   ]
  },
  {
   "cell_type": "code",
   "execution_count": 40,
   "metadata": {},
   "outputs": [
    {
     "data": {
      "text/plain": [
       "1 Season     1793\n",
       "2 Seasons     425\n",
       "3 Seasons     199\n",
       "90 min        152\n",
       "97 min        146\n",
       "             ... \n",
       "214 min         1\n",
       "205 min         1\n",
       "253 min         1\n",
       "201 min         1\n",
       "200 min         1\n",
       "Name: duration, Length: 220, dtype: int64"
      ]
     },
     "execution_count": 40,
     "metadata": {},
     "output_type": "execute_result"
    }
   ],
   "source": [
    "# Group by range of minutes for movies, and 1 season or 2+ seasons for TV Shows\n",
    "netflix_data.duration.value_counts()"
   ]
  },
  {
   "cell_type": "code",
   "execution_count": 43,
   "metadata": {},
   "outputs": [
    {
     "data": {
      "text/plain": [
       "Dramas, International Movies                        362\n",
       "Documentaries                                       359\n",
       "Stand-Up Comedy                                     334\n",
       "Comedies, Dramas, International Movies              274\n",
       "Dramas, Independent Movies, International Movies    252\n",
       "                                                   ... \n",
       "Children & Family Movies, Comedies, LGBTQ Movies      1\n",
       "TV Action & Adventure, TV Dramas, Teen TV Shows       1\n",
       "Docuseries, Science & Nature TV, TV Dramas            1\n",
       "Reality TV, TV Action & Adventure, TV Mysteries       1\n",
       "TV Comedies, TV Sci-Fi & Fantasy, Teen TV Shows       1\n",
       "Name: listed_in, Length: 514, dtype: int64"
      ]
     },
     "execution_count": 43,
     "metadata": {},
     "output_type": "execute_result"
    }
   ],
   "source": [
    "# We should separate the list\n",
    "netflix_data.listed_in.value_counts()"
   ]
  },
  {
   "cell_type": "code",
   "execution_count": 45,
   "metadata": {},
   "outputs": [
    {
     "data": {
      "text/plain": [
       "Paranormal activity at a lush, abandoned property alarms a group eager to redevelop the site, but the eerie events may not be as unearthly as they think.    4\n",
       "Multiple women report their husbands as missing but when it appears they are looking for the same man, a police officer traces their cryptic connection.     3\n",
       "Challenged to compose 100 songs before he can marry the girl he loves, a tortured but passionate singer-songwriter embarks on a poignant musical journey.    3\n",
       "A surly septuagenarian gets another chance at her 20s after having her photo snapped at a studio that magically takes 50 years off her life.                 3\n",
       "From controversial cartoonist to powerful Mumbai politician, this biopic maps the meteoric rise of far-right Shiv Sena party founder, Bal Thackeray.         2\n",
       "                                                                                                                                                            ..\n",
       "Catching the eye of a wealthy gentleman, spunky Ha-won gets hired to live with his three immature grandsons so she can whip them into shape.                 1\n",
       "Suzu marries into a family living outside of Hiroshima and quickly settles into her new life, until World War II challenges her ability to survive.          1\n",
       "A young woman arrives at her estranged sister's wedding to mend fences but falls prey to lust when she meets the groom.                                      1\n",
       "After the world learns the truth about her failing marriage, a successful self-help author tries to salvage her career and find her way as a divorcée.       1\n",
       "Inside a vast, self-replicating city bent on eliminating all life, mysterious loner Killy emerges to guide a remnant of humanity desperate to survive.       1\n",
       "Name: description, Length: 8775, dtype: int64"
      ]
     },
     "execution_count": 45,
     "metadata": {},
     "output_type": "execute_result"
    }
   ],
   "source": [
    "# Bag of words?\n",
    "netflix_data.description.value_counts()"
   ]
  },
  {
   "cell_type": "markdown",
   "metadata": {},
   "source": [
    "## GRAPH\n",
    "\n",
    "'show' = 'show_id', 'title'\n",
    "\n",
    "'show' -> typed as -> 'type'\n",
    "\n",
    "'show' -> categorized as -> 'listed_in'\n",
    "\n",
    "'show' -> directed by -> 'director' \n",
    "\n",
    "'show' -> release on -> 'release_year'\n",
    "\n",
    "'show' -> lasts for -> 'duration'\n",
    "\n",
    "'show' -> produced in -> 'country' \n",
    "\n",
    "'show' -> interpreted by -> 'cast'\n",
    "\n",
    "-- 'show' -> add on netflix on -> 'date_added'\n",
    "\n",
    "-- 'show' -> rated as -> 'rating'\n",
    "\n",
    "-- 'show' -> described as -> 'description'"
   ]
  },
  {
   "cell_type": "code",
   "execution_count": 156,
   "metadata": {},
   "outputs": [],
   "source": [
    "def transform_categories_in_indexes(dataset):\n",
    "    list_cols = dataset.columns\n",
    "    next_index = 0\n",
    "    for col in list_cols:\n",
    "        categories = dataset.loc[:, col].unique()\n",
    "        indexes = range(next_index, next_index+len(categories))\n",
    "        dataset.update(dataset.loc[:, col].replace(categories, indexes))\n",
    "        next_index = indexes[-1] + 1\n",
    "    return dataset"
   ]
  },
  {
   "cell_type": "code",
   "execution_count": 177,
   "metadata": {},
   "outputs": [],
   "source": [
    "def create_type_file(dataset, file_name):\n",
    "    with open(f'{file_name}.type','w') as file:\n",
    "        list_cols = dataset.columns\n",
    "        for i in range(len(list_cols)):\n",
    "            n_rows = dataset[list_cols[i]].nunique()\n",
    "            for j in range(n_rows):\n",
    "                file.write(str(i))\n",
    "                file.write('\\n')"
   ]
  },
  {
   "cell_type": "code",
   "execution_count": 178,
   "metadata": {},
   "outputs": [],
   "source": [
    "# This method only works if only column 0 has connections with other layers\n",
    "def create_ncol_file(dataset, file_name):\n",
    "    with open(f'{file_name}.ncol','w') as file:\n",
    "        # for each row\n",
    "        base_column = 'show_id'\n",
    "        for index, row in dataset.iterrows():\n",
    "            # for each column that is not show_id, there is a connection with show_id\n",
    "            list_cols = dataset.columns\n",
    "            for col in list_cols[1:]:\n",
    "                file.write(f\"{row[base_column]} {row[col]} 1\")\n",
    "                file.write('\\n')"
   ]
  },
  {
   "cell_type": "code",
   "execution_count": 179,
   "metadata": {},
   "outputs": [],
   "source": [
    "# This method only works for complete bipartite networks \n",
    "def create_Cbipartite_membership_file(dataset, file_name):\n",
    "    with open(f'{file_name}.membership','w') as file:\n",
    "        other_column = dataset.columns[1]\n",
    "        ## Layer 0 - show_id\n",
    "        for index, row in dataset.iterrows():\n",
    "            file.write(f\"{row[1]}\")\n",
    "            file.write('\\n')\n",
    "\n",
    "        ## Layer 1 - only works if there is no communities there\n",
    "        for i in range (dataset[other_column].nunique()):\n",
    "            file.write(str(i))\n",
    "            file.write('\\n')"
   ]
  },
  {
   "cell_type": "code",
   "execution_count": 180,
   "metadata": {},
   "outputs": [],
   "source": [
    "def generate_all_files(dataset, filename, is_Cbipartite):\n",
    "    bipartite1_transformed = transform_categories_in_indexes(dataset)\n",
    "    create_type_file(bipartite1_transformed, file_name=filename)\n",
    "    create_ncol_file(bipartite1_transformed, file_name=filename)\n",
    "    if is_Cbipartite:\n",
    "        create_Cbipartite_membership_file(bipartite1_transformed, file_name=filename)"
   ]
  },
  {
   "cell_type": "markdown",
   "metadata": {},
   "source": [
    "# Bipartite network"
   ]
  },
  {
   "cell_type": "markdown",
   "metadata": {},
   "source": [
    "## movie, type\n",
    "it should be straightforward 2 communities"
   ]
  },
  {
   "cell_type": "code",
   "execution_count": 187,
   "metadata": {},
   "outputs": [
    {
     "name": "stderr",
     "output_type": "stream",
     "text": [
      "/usr/local/Cellar/jupyterlab/2.2.9/libexec/lib/python3.9/site-packages/pandas/core/frame.py:6599: SettingWithCopyWarning: \n",
      "A value is trying to be set on a copy of a slice from a DataFrame.\n",
      "Try using .loc[row_indexer,col_indexer] = value instead\n",
      "\n",
      "See the caveats in the documentation: https://pandas.pydata.org/pandas-docs/stable/user_guide/indexing.html#returning-a-view-versus-a-copy\n",
      "  self[col] = expressions.where(mask, this, that)\n"
     ]
    }
   ],
   "source": [
    "bipartite1 = netflix_data[['show_id', 'type']]\n",
    "filename = 'g_bipartite-1'\n",
    "filepath = f'../outputs/output_bnoc/{filename}/{filename}'\n",
    "generate_all_files(bipartite1, filepath, is_Cbipartite=True)"
   ]
  },
  {
   "cell_type": "code",
   "execution_count": 176,
   "metadata": {},
   "outputs": [],
   "source": []
  },
  {
   "cell_type": "code",
   "execution_count": null,
   "metadata": {},
   "outputs": [],
   "source": []
  }
 ],
 "metadata": {
  "kernelspec": {
   "display_name": "Python 3",
   "language": "python",
   "name": "python3"
  },
  "language_info": {
   "codemirror_mode": {
    "name": "ipython",
    "version": 3
   },
   "file_extension": ".py",
   "mimetype": "text/x-python",
   "name": "python",
   "nbconvert_exporter": "python",
   "pygments_lexer": "ipython3",
   "version": "3.9.7"
  }
 },
 "nbformat": 4,
 "nbformat_minor": 4
}
