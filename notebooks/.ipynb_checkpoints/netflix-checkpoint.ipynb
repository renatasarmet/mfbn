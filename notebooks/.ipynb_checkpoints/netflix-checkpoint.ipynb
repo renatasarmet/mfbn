{
 "cells": [
  {
   "cell_type": "code",
   "execution_count": 1,
   "metadata": {},
   "outputs": [],
   "source": [
    "import pandas as pd"
   ]
  },
  {
   "cell_type": "markdown",
   "metadata": {},
   "source": [
    "# Original Dataset"
   ]
  },
  {
   "cell_type": "code",
   "execution_count": 2,
   "metadata": {},
   "outputs": [
    {
     "data": {
      "text/html": [
       "<div>\n",
       "<style scoped>\n",
       "    .dataframe tbody tr th:only-of-type {\n",
       "        vertical-align: middle;\n",
       "    }\n",
       "\n",
       "    .dataframe tbody tr th {\n",
       "        vertical-align: top;\n",
       "    }\n",
       "\n",
       "    .dataframe thead th {\n",
       "        text-align: right;\n",
       "    }\n",
       "</style>\n",
       "<table border=\"1\" class=\"dataframe\">\n",
       "  <thead>\n",
       "    <tr style=\"text-align: right;\">\n",
       "      <th></th>\n",
       "      <th>show_id</th>\n",
       "      <th>type</th>\n",
       "      <th>title</th>\n",
       "      <th>director</th>\n",
       "      <th>cast</th>\n",
       "      <th>country</th>\n",
       "      <th>date_added</th>\n",
       "      <th>release_year</th>\n",
       "      <th>rating</th>\n",
       "      <th>duration</th>\n",
       "      <th>listed_in</th>\n",
       "      <th>description</th>\n",
       "    </tr>\n",
       "  </thead>\n",
       "  <tbody>\n",
       "    <tr>\n",
       "      <th>0</th>\n",
       "      <td>s1</td>\n",
       "      <td>Movie</td>\n",
       "      <td>Dick Johnson Is Dead</td>\n",
       "      <td>Kirsten Johnson</td>\n",
       "      <td>NaN</td>\n",
       "      <td>United States</td>\n",
       "      <td>September 25, 2021</td>\n",
       "      <td>2020</td>\n",
       "      <td>PG-13</td>\n",
       "      <td>90 min</td>\n",
       "      <td>Documentaries</td>\n",
       "      <td>As her father nears the end of his life, filmm...</td>\n",
       "    </tr>\n",
       "    <tr>\n",
       "      <th>1</th>\n",
       "      <td>s2</td>\n",
       "      <td>TV Show</td>\n",
       "      <td>Blood &amp; Water</td>\n",
       "      <td>NaN</td>\n",
       "      <td>Ama Qamata, Khosi Ngema, Gail Mabalane, Thaban...</td>\n",
       "      <td>South Africa</td>\n",
       "      <td>September 24, 2021</td>\n",
       "      <td>2021</td>\n",
       "      <td>TV-MA</td>\n",
       "      <td>2 Seasons</td>\n",
       "      <td>International TV Shows, TV Dramas, TV Mysteries</td>\n",
       "      <td>After crossing paths at a party, a Cape Town t...</td>\n",
       "    </tr>\n",
       "    <tr>\n",
       "      <th>2</th>\n",
       "      <td>s3</td>\n",
       "      <td>TV Show</td>\n",
       "      <td>Ganglands</td>\n",
       "      <td>Julien Leclercq</td>\n",
       "      <td>Sami Bouajila, Tracy Gotoas, Samuel Jouy, Nabi...</td>\n",
       "      <td>NaN</td>\n",
       "      <td>September 24, 2021</td>\n",
       "      <td>2021</td>\n",
       "      <td>TV-MA</td>\n",
       "      <td>1 Season</td>\n",
       "      <td>Crime TV Shows, International TV Shows, TV Act...</td>\n",
       "      <td>To protect his family from a powerful drug lor...</td>\n",
       "    </tr>\n",
       "    <tr>\n",
       "      <th>3</th>\n",
       "      <td>s4</td>\n",
       "      <td>TV Show</td>\n",
       "      <td>Jailbirds New Orleans</td>\n",
       "      <td>NaN</td>\n",
       "      <td>NaN</td>\n",
       "      <td>NaN</td>\n",
       "      <td>September 24, 2021</td>\n",
       "      <td>2021</td>\n",
       "      <td>TV-MA</td>\n",
       "      <td>1 Season</td>\n",
       "      <td>Docuseries, Reality TV</td>\n",
       "      <td>Feuds, flirtations and toilet talk go down amo...</td>\n",
       "    </tr>\n",
       "    <tr>\n",
       "      <th>4</th>\n",
       "      <td>s5</td>\n",
       "      <td>TV Show</td>\n",
       "      <td>Kota Factory</td>\n",
       "      <td>NaN</td>\n",
       "      <td>Mayur More, Jitendra Kumar, Ranjan Raj, Alam K...</td>\n",
       "      <td>India</td>\n",
       "      <td>September 24, 2021</td>\n",
       "      <td>2021</td>\n",
       "      <td>TV-MA</td>\n",
       "      <td>2 Seasons</td>\n",
       "      <td>International TV Shows, Romantic TV Shows, TV ...</td>\n",
       "      <td>In a city of coaching centers known to train I...</td>\n",
       "    </tr>\n",
       "  </tbody>\n",
       "</table>\n",
       "</div>"
      ],
      "text/plain": [
       "  show_id     type                  title         director  \\\n",
       "0      s1    Movie   Dick Johnson Is Dead  Kirsten Johnson   \n",
       "1      s2  TV Show          Blood & Water              NaN   \n",
       "2      s3  TV Show              Ganglands  Julien Leclercq   \n",
       "3      s4  TV Show  Jailbirds New Orleans              NaN   \n",
       "4      s5  TV Show           Kota Factory              NaN   \n",
       "\n",
       "                                                cast        country  \\\n",
       "0                                                NaN  United States   \n",
       "1  Ama Qamata, Khosi Ngema, Gail Mabalane, Thaban...   South Africa   \n",
       "2  Sami Bouajila, Tracy Gotoas, Samuel Jouy, Nabi...            NaN   \n",
       "3                                                NaN            NaN   \n",
       "4  Mayur More, Jitendra Kumar, Ranjan Raj, Alam K...          India   \n",
       "\n",
       "           date_added  release_year rating   duration  \\\n",
       "0  September 25, 2021          2020  PG-13     90 min   \n",
       "1  September 24, 2021          2021  TV-MA  2 Seasons   \n",
       "2  September 24, 2021          2021  TV-MA   1 Season   \n",
       "3  September 24, 2021          2021  TV-MA   1 Season   \n",
       "4  September 24, 2021          2021  TV-MA  2 Seasons   \n",
       "\n",
       "                                           listed_in  \\\n",
       "0                                      Documentaries   \n",
       "1    International TV Shows, TV Dramas, TV Mysteries   \n",
       "2  Crime TV Shows, International TV Shows, TV Act...   \n",
       "3                             Docuseries, Reality TV   \n",
       "4  International TV Shows, Romantic TV Shows, TV ...   \n",
       "\n",
       "                                         description  \n",
       "0  As her father nears the end of his life, filmm...  \n",
       "1  After crossing paths at a party, a Cape Town t...  \n",
       "2  To protect his family from a powerful drug lor...  \n",
       "3  Feuds, flirtations and toilet talk go down amo...  \n",
       "4  In a city of coaching centers known to train I...  "
      ]
     },
     "execution_count": 2,
     "metadata": {},
     "output_type": "execute_result"
    }
   ],
   "source": [
    "# Import netflix data\n",
    "\"\"\"\n",
    "Kaggle link: https://www.kaggle.com/datasets/shivamb/netflix-shows\n",
    "\n",
    "Dataset:\n",
    "show_id (text_format): Unique ID for every Movie / Tv Show\n",
    "type (text_format): Identifier - A Movie or TV Show\n",
    "title (text_format): Title of the Movie / Tv Show\n",
    "director (text_format): Director of the Movie\n",
    "cast (text_format): Actors involved in the movie / show\n",
    "country (calendar_today): Country where the movie / show was produced\n",
    "date_added (grid_3x3): Date it was added on Netflix\n",
    "release_year (text_format): Actual Release year of the move / show\n",
    "rating (text_format): TV Rating of the movie / show\n",
    "duration (text_format): Total Duration - in minutes or number of seasons\n",
    "listed_in (text_format): Genere\n",
    "description (text_format): The summary description\n",
    "\"\"\"\n",
    "netflix_data = pd.read_csv('datasets/netflix.csv')\n",
    "netflix_data.head()"
   ]
  },
  {
   "cell_type": "code",
   "execution_count": 25,
   "metadata": {},
   "outputs": [
    {
     "name": "stdout",
     "output_type": "stream",
     "text": [
      "Null:  0\n"
     ]
    },
    {
     "data": {
      "text/plain": [
       "<AxesSubplot:>"
      ]
     },
     "execution_count": 25,
     "metadata": {},
     "output_type": "execute_result"
    },
    {
     "data": {
      "image/png": "[encoded data removed]",
      "text/plain": [
       "<Figure size 432x288 with 1 Axes>"
      ]
     },
     "metadata": {
      "needs_background": "light"
     },
     "output_type": "display_data"
    }
   ],
   "source": [
    "# We may get just one type\n",
    "print(\"Null: \", netflix_data.type.isna().sum())\n",
    "netflix_data.type.value_counts().plot.bar()"
   ]
  },
  {
   "cell_type": "code",
   "execution_count": 26,
   "metadata": {},
   "outputs": [
    {
     "name": "stdout",
     "output_type": "stream",
     "text": [
      "Null:  2634\n"
     ]
    },
    {
     "data": {
      "text/plain": [
       "Rajiv Chilaka             19\n",
       "Raúl Campos, Jan Suter    18\n",
       "Suhas Kadav               16\n",
       "Marcus Raboy              16\n",
       "Jay Karas                 14\n",
       "                          ..\n",
       "Leo Riley                  1\n",
       "José Miguel Contreras      1\n",
       "Rene Bueno                 1\n",
       "Jeannot Szwarc             1\n",
       "Roman Polanski             1\n",
       "Name: director, Length: 4528, dtype: int64"
      ]
     },
     "execution_count": 26,
     "metadata": {},
     "output_type": "execute_result"
    }
   ],
   "source": [
    "print(\"Null: \", netflix_data.director.isna().sum())\n",
    "netflix_data.director.value_counts()"
   ]
  },
  {
   "cell_type": "code",
   "execution_count": 27,
   "metadata": {
    "scrolled": false
   },
   "outputs": [
    {
     "name": "stdout",
     "output_type": "stream",
     "text": [
      "Null:  825\n"
     ]
    },
    {
     "data": {
      "text/plain": [
       "David Attenborough                                                                                                                          19\n",
       "Vatsal Dubey, Julie Tejwani, Rupa Bhimani, Jigna Bhardwaj, Rajesh Kava, Mousam, Swapnil                                                     14\n",
       "Samuel West                                                                                                                                 10\n",
       "Jeff Dunham                                                                                                                                  7\n",
       "Michela Luci, Jamie Watson, Eric Peterson, Anna Claire Bartlam, Nicolas Aqui, Cory Doran, Julie Lemieux, Derek McGrath                       6\n",
       "                                                                                                                                            ..\n",
       "Michael Ware                                                                                                                                 1\n",
       "Michael Izquierdo                                                                                                                            1\n",
       "Yoon Du-jun, Seo Hyun-jin, Kwon Yul, Kim Hee-won, Hwang Seog-jeong, Cho Eun-ji, Hwang Seung-un, Lee Ju-seung, Kim Ji-young                   1\n",
       "Amitabh Bachchan, Sanjay Dutt, Rana Daggubati, Vijay Raaz, Abhimanyu Singh, Madhu Shalini, Deepak Tijori, Anjana Sukhani, Manchu Lakshmi     1\n",
       "Jung Il-woo, Ahn Jae-hyeon, Park So-dam, Lee Jung-shin, Kim Yong-geon, Choi Min, Son Na-eun                                                  1\n",
       "Name: cast, Length: 7692, dtype: int64"
      ]
     },
     "execution_count": 27,
     "metadata": {},
     "output_type": "execute_result"
    }
   ],
   "source": [
    "# We should separate the list\n",
    "print(\"Null: \", netflix_data.cast.isna().sum())\n",
    "netflix_data.cast.value_counts()"
   ]
  },
  {
   "cell_type": "code",
   "execution_count": 28,
   "metadata": {},
   "outputs": [
    {
     "name": "stdout",
     "output_type": "stream",
     "text": [
      "Null:  831\n"
     ]
    },
    {
     "data": {
      "text/plain": [
       "United States                    2818\n",
       "India                             972\n",
       "United Kingdom                    419\n",
       "Japan                             245\n",
       "South Korea                       199\n",
       "Canada                            181\n",
       "Spain                             145\n",
       "France                            124\n",
       "Mexico                            110\n",
       "Egypt                             106\n",
       "Turkey                            105\n",
       "Nigeria                            95\n",
       "Australia                          87\n",
       "Taiwan                             81\n",
       "Indonesia                          79\n",
       "Brazil                             77\n",
       "United Kingdom, United States      75\n",
       "Philippines                        75\n",
       "United States, Canada              73\n",
       "Germany                            67\n",
       "Name: country, dtype: int64"
      ]
     },
     "execution_count": 28,
     "metadata": {},
     "output_type": "execute_result"
    }
   ],
   "source": [
    "# Country is very unbalanced, maybe group by US, NOT_US\n",
    "print(\"Null: \", netflix_data.country.isna().sum())\n",
    "netflix_data.country.value_counts().head(20)"
   ]
  },
  {
   "cell_type": "code",
   "execution_count": 29,
   "metadata": {},
   "outputs": [
    {
     "name": "stdout",
     "output_type": "stream",
     "text": [
      "Null:  10\n"
     ]
    },
    {
     "data": {
      "text/plain": [
       "January 1, 2020      109\n",
       "November 1, 2019      89\n",
       "March 1, 2018         75\n",
       "December 31, 2019     74\n",
       "October 1, 2018       71\n",
       "                    ... \n",
       "July 23, 2018          1\n",
       "January 28, 2021       1\n",
       "July 4, 2017           1\n",
       "January 24, 2017       1\n",
       "October 27, 2016       1\n",
       "Name: date_added, Length: 1767, dtype: int64"
      ]
     },
     "execution_count": 29,
     "metadata": {},
     "output_type": "execute_result"
    }
   ],
   "source": [
    "# Maybe get just the year\n",
    "print(\"Null: \", netflix_data.date_added.isna().sum())\n",
    "netflix_data.date_added.value_counts()"
   ]
  },
  {
   "cell_type": "code",
   "execution_count": 30,
   "metadata": {},
   "outputs": [
    {
     "name": "stdout",
     "output_type": "stream",
     "text": [
      "Null:  0\n"
     ]
    },
    {
     "data": {
      "text/plain": [
       "2018    1147\n",
       "2017    1032\n",
       "2019    1030\n",
       "2020     953\n",
       "2016     902\n",
       "        ... \n",
       "1966       1\n",
       "1925       1\n",
       "1947       1\n",
       "1959       1\n",
       "1961       1\n",
       "Name: release_year, Length: 74, dtype: int64"
      ]
     },
     "execution_count": 30,
     "metadata": {},
     "output_type": "execute_result"
    }
   ],
   "source": [
    "# We should it group by somehow, maybe by decade, groups of 5 years or just 2000-\n",
    "print(\"Null: \", netflix_data.release_year.isna().sum())\n",
    "netflix_data.release_year.value_counts()"
   ]
  },
  {
   "cell_type": "code",
   "execution_count": 31,
   "metadata": {},
   "outputs": [
    {
     "name": "stdout",
     "output_type": "stream",
     "text": [
      "Null:  4\n"
     ]
    },
    {
     "data": {
      "text/plain": [
       "TV-MA       3207\n",
       "TV-14       2160\n",
       "TV-PG        863\n",
       "R            799\n",
       "PG-13        490\n",
       "TV-Y7        334\n",
       "TV-Y         307\n",
       "PG           287\n",
       "TV-G         220\n",
       "NR            80\n",
       "G             41\n",
       "TV-Y7-FV       6\n",
       "NC-17          3\n",
       "UR             3\n",
       "74 min         1\n",
       "66 min         1\n",
       "84 min         1\n",
       "Name: rating, dtype: int64"
      ]
     },
     "execution_count": 31,
     "metadata": {},
     "output_type": "execute_result"
    }
   ],
   "source": [
    "# What is it?\n",
    "print(\"Null: \", netflix_data.rating.isna().sum())\n",
    "netflix_data.rating.value_counts()"
   ]
  },
  {
   "cell_type": "code",
   "execution_count": 32,
   "metadata": {},
   "outputs": [
    {
     "name": "stdout",
     "output_type": "stream",
     "text": [
      "Null:  3\n"
     ]
    },
    {
     "data": {
      "text/plain": [
       "1 Season     1793\n",
       "2 Seasons     425\n",
       "3 Seasons     199\n",
       "90 min        152\n",
       "97 min        146\n",
       "             ... \n",
       "9 min           1\n",
       "205 min         1\n",
       "201 min         1\n",
       "5 min           1\n",
       "43 min          1\n",
       "Name: duration, Length: 220, dtype: int64"
      ]
     },
     "execution_count": 32,
     "metadata": {},
     "output_type": "execute_result"
    }
   ],
   "source": [
    "# Group by range of minutes for movies, and 1 season or 2+ seasons for TV Shows\n",
    "print(\"Null: \", netflix_data.duration.isna().sum())\n",
    "netflix_data.duration.value_counts()"
   ]
  },
  {
   "cell_type": "code",
   "execution_count": 33,
   "metadata": {},
   "outputs": [
    {
     "name": "stdout",
     "output_type": "stream",
     "text": [
      "Null:  0\n"
     ]
    },
    {
     "data": {
      "text/plain": [
       "Dramas, International Movies                             362\n",
       "Documentaries                                            359\n",
       "Stand-Up Comedy                                          334\n",
       "Comedies, Dramas, International Movies                   274\n",
       "Dramas, Independent Movies, International Movies         252\n",
       "                                                        ... \n",
       "British TV Shows, Docuseries, Reality TV                   1\n",
       "TV Horror, TV Mysteries, Teen TV Shows                     1\n",
       "TV Dramas, TV Sci-Fi & Fantasy, TV Thrillers               1\n",
       "Action & Adventure, Horror Movies, Independent Movies      1\n",
       "TV Action & Adventure                                      1\n",
       "Name: listed_in, Length: 514, dtype: int64"
      ]
     },
     "execution_count": 33,
     "metadata": {},
     "output_type": "execute_result"
    }
   ],
   "source": [
    "# We should separate the list\n",
    "print(\"Null: \", netflix_data.listed_in.isna().sum())\n",
    "netflix_data.listed_in.value_counts()"
   ]
  },
  {
   "cell_type": "code",
   "execution_count": 34,
   "metadata": {},
   "outputs": [
    {
     "name": "stdout",
     "output_type": "stream",
     "text": [
      "Null:  0\n"
     ]
    },
    {
     "data": {
      "text/plain": [
       "Paranormal activity at a lush, abandoned property alarms a group eager to redevelop the site, but the eerie events may not be as unearthly as they think.    4\n",
       "Multiple women report their husbands as missing but when it appears they are looking for the same man, a police officer traces their cryptic connection.     3\n",
       "A surly septuagenarian gets another chance at her 20s after having her photo snapped at a studio that magically takes 50 years off her life.                 3\n",
       "Challenged to compose 100 songs before he can marry the girl he loves, a tortured but passionate singer-songwriter embarks on a poignant musical journey.    3\n",
       "Two quirky cats, Ollie and Moon, and their friend Stanley the snail travel the world, solving everyday problems and learning about different cultures.       2\n",
       "                                                                                                                                                            ..\n",
       "Masha explains why there's no need to be scared of things like monsters, the dark, going to a new school, thunder and other common childhood fears.          1\n",
       "Returning Pup Star champ Tiny has her Yorkie paws full after an evil rival replaces her with street dog Scrappy during the national competition.             1\n",
       "When a gay brainiac with OCD questions his identity, he enters a romantic relationship with a woman, leaving sex and physical intimacy out of it.            1\n",
       "When his girlfriend vanishes, a mute man ventures into a near-future Berlin's seamy underworld, where his actions speak louder than words.                   1\n",
       "A timid nursing assistant gets a new lease on life when she and a neighborhood loner track down the degenerates who broke into her house.                    1\n",
       "Name: description, Length: 8775, dtype: int64"
      ]
     },
     "execution_count": 34,
     "metadata": {},
     "output_type": "execute_result"
    }
   ],
   "source": [
    "# Bag of words?\n",
    "print(\"Null: \", netflix_data.description.isna().sum())\n",
    "netflix_data.description.value_counts()"
   ]
  },
  {
   "cell_type": "markdown",
   "metadata": {},
   "source": [
    "## GRAPH\n",
    "\n",
    "'show' = 'show_id', 'title'\n",
    "\n",
    "'show' -> typed as -> 'type'\n",
    "\n",
    "'show' -> categorized as -> 'listed_in'\n",
    "\n",
    "'show' -> directed by -> 'director' \n",
    "\n",
    "'show' -> release on -> 'release_year'\n",
    "\n",
    "'show' -> lasts for -> 'duration'\n",
    "\n",
    "'show' -> produced in -> 'country' \n",
    "\n",
    "'show' -> interpreted by -> 'cast'\n",
    "\n",
    "-- 'show' -> add on netflix on -> 'date_added'\n",
    "\n",
    "-- 'show' -> rated as -> 'rating'\n",
    "\n",
    "-- 'show' -> described as -> 'description'"
   ]
  },
  {
   "cell_type": "code",
   "execution_count": 135,
   "metadata": {},
   "outputs": [],
   "source": [
    "def transform_categories_in_indexes(dataset):\n",
    "    list_cols = dataset.columns\n",
    "    next_index = 0\n",
    "    for col in list_cols:\n",
    "        categories = dataset.loc[:, col].unique()\n",
    "        indexes = range(next_index, next_index+len(categories))\n",
    "        dict_categories = dict(zip(categories, indexes))\n",
    "        dataset.update(dataset.loc[:, col].replace(dict_categories))\n",
    "        next_index = indexes[-1] + 1\n",
    "    return dataset"
   ]
  },
  {
   "cell_type": "code",
   "execution_count": 75,
   "metadata": {},
   "outputs": [],
   "source": [
    "def create_type_file(dataset, file_name):\n",
    "    with open(f'{file_name}.type','w') as file:\n",
    "        list_cols = dataset.columns\n",
    "        for i in range(len(list_cols)):\n",
    "            n_rows = dataset[list_cols[i]].nunique()\n",
    "            for j in range(n_rows):\n",
    "                file.write(str(i))\n",
    "                file.write('\\n')"
   ]
  },
  {
   "cell_type": "code",
   "execution_count": 145,
   "metadata": {},
   "outputs": [],
   "source": [
    "# This method only works if only column 0 has connections with other layers\n",
    "def create_ncol_file(dataset, file_name):\n",
    "    with open(f'{file_name}.ncol','w') as file:\n",
    "        base_column = 'show_id'\n",
    "        # for each column that is not show_id, there is a connection with show_id\n",
    "        list_cols = dataset.columns\n",
    "        for col in list_cols[1:]:\n",
    "            df = dataset[[base_column, col]].drop_duplicates()\n",
    "            # for each row\n",
    "            for index, row in df.iterrows():\n",
    "                file.write(f\"{row[base_column]} {row[col]} 1\")\n",
    "                file.write('\\n')"
   ]
  },
  {
   "cell_type": "code",
   "execution_count": 73,
   "metadata": {},
   "outputs": [],
   "source": [
    "# This method only works for bipartite networks that is straightfoward the classification\n",
    "def create_Cbipartite_membership_file(dataset, file_name):\n",
    "    with open(f'{file_name}.membership','w') as file:\n",
    "        other_column = dataset.columns[1]\n",
    "        ## Layer 0 - show_id\n",
    "        n_shows = dataset.shape[0]\n",
    "        for index, row in dataset.iterrows():\n",
    "            file.write(f\"{row[other_column]-n_shows}\")\n",
    "            file.write('\\n')\n",
    "\n",
    "        ## Layer 1 - only works if there is no communities there\n",
    "        for i in range (dataset[other_column].nunique()):\n",
    "            file.write(str(i))\n",
    "            file.write('\\n')"
   ]
  },
  {
   "cell_type": "code",
   "execution_count": 152,
   "metadata": {},
   "outputs": [],
   "source": [
    "def generate_all_files(dataset, filename):\n",
    "    bipartite1_transformed = transform_categories_in_indexes(dataset)\n",
    "    create_type_file(bipartite1_transformed, file_name=filename)\n",
    "    create_ncol_file(bipartite1_transformed, file_name=filename)"
   ]
  },
  {
   "cell_type": "markdown",
   "metadata": {},
   "source": [
    "# Bipartite network"
   ]
  },
  {
   "cell_type": "markdown",
   "metadata": {},
   "source": [
    "## movie, type\n",
    "it should be straightforward 2 communities -> it works 100%, correct answers [in both determining 2 communities and letting it open]. \n",
    "\n",
    "Modularity of both original and detected is low = 0.269. What is the correct way to calculate that? Or to evaluate a real world network in which we don't know either how many and which are the communities."
   ]
  },
  {
   "cell_type": "code",
   "execution_count": 64,
   "metadata": {},
   "outputs": [
    {
     "data": {
      "text/html": [
       "<div>\n",
       "<style scoped>\n",
       "    .dataframe tbody tr th:only-of-type {\n",
       "        vertical-align: middle;\n",
       "    }\n",
       "\n",
       "    .dataframe tbody tr th {\n",
       "        vertical-align: top;\n",
       "    }\n",
       "\n",
       "    .dataframe thead th {\n",
       "        text-align: right;\n",
       "    }\n",
       "</style>\n",
       "<table border=\"1\" class=\"dataframe\">\n",
       "  <thead>\n",
       "    <tr style=\"text-align: right;\">\n",
       "      <th></th>\n",
       "      <th>show_id</th>\n",
       "      <th>type</th>\n",
       "    </tr>\n",
       "  </thead>\n",
       "  <tbody>\n",
       "    <tr>\n",
       "      <th>0</th>\n",
       "      <td>s1</td>\n",
       "      <td>Movie</td>\n",
       "    </tr>\n",
       "    <tr>\n",
       "      <th>1</th>\n",
       "      <td>s2</td>\n",
       "      <td>TV Show</td>\n",
       "    </tr>\n",
       "    <tr>\n",
       "      <th>2</th>\n",
       "      <td>s3</td>\n",
       "      <td>TV Show</td>\n",
       "    </tr>\n",
       "    <tr>\n",
       "      <th>3</th>\n",
       "      <td>s4</td>\n",
       "      <td>TV Show</td>\n",
       "    </tr>\n",
       "    <tr>\n",
       "      <th>4</th>\n",
       "      <td>s5</td>\n",
       "      <td>TV Show</td>\n",
       "    </tr>\n",
       "  </tbody>\n",
       "</table>\n",
       "</div>"
      ],
      "text/plain": [
       "  show_id     type\n",
       "0      s1    Movie\n",
       "1      s2  TV Show\n",
       "2      s3  TV Show\n",
       "3      s4  TV Show\n",
       "4      s5  TV Show"
      ]
     },
     "execution_count": 64,
     "metadata": {},
     "output_type": "execute_result"
    }
   ],
   "source": [
    "bipartite1 = netflix_data[['show_id', 'type']]\n",
    "bipartite1.head()"
   ]
  },
  {
   "cell_type": "code",
   "execution_count": 18,
   "metadata": {},
   "outputs": [
    {
     "name": "stderr",
     "output_type": "stream",
     "text": [
      "/usr/local/Cellar/jupyterlab/2.2.9/libexec/lib/python3.9/site-packages/pandas/core/frame.py:6599: SettingWithCopyWarning: \n",
      "A value is trying to be set on a copy of a slice from a DataFrame.\n",
      "Try using .loc[row_indexer,col_indexer] = value instead\n",
      "\n",
      "See the caveats in the documentation: https://pandas.pydata.org/pandas-docs/stable/user_guide/indexing.html#returning-a-view-versus-a-copy\n",
      "  self[col] = expressions.where(mask, this, that)\n"
     ]
    }
   ],
   "source": [
    "filename = 'g_bipartite-1'\n",
    "filepath = f'../outputs/output_bnoc/{filename}/{filename}'\n",
    "generate_all_files(bipartite1, filepath)\n",
    "create_Cbipartite_membership_file(bipartite1_transformed, file_name=filename)"
   ]
  },
  {
   "cell_type": "markdown",
   "metadata": {},
   "source": [
    "# Tripartite network"
   ]
  },
  {
   "cell_type": "markdown",
   "metadata": {},
   "source": [
    "## only movies: show_id, type, listed_in"
   ]
  },
  {
   "cell_type": "code",
   "execution_count": 193,
   "metadata": {},
   "outputs": [
    {
     "data": {
      "text/html": [
       "<div>\n",
       "<style scoped>\n",
       "    .dataframe tbody tr th:only-of-type {\n",
       "        vertical-align: middle;\n",
       "    }\n",
       "\n",
       "    .dataframe tbody tr th {\n",
       "        vertical-align: top;\n",
       "    }\n",
       "\n",
       "    .dataframe thead th {\n",
       "        text-align: right;\n",
       "    }\n",
       "</style>\n",
       "<table border=\"1\" class=\"dataframe\">\n",
       "  <thead>\n",
       "    <tr style=\"text-align: right;\">\n",
       "      <th></th>\n",
       "      <th>show_id</th>\n",
       "      <th>director</th>\n",
       "      <th>listed_in</th>\n",
       "    </tr>\n",
       "  </thead>\n",
       "  <tbody>\n",
       "    <tr>\n",
       "      <th>0</th>\n",
       "      <td>s1</td>\n",
       "      <td>Kirsten Johnson</td>\n",
       "      <td>Documentaries</td>\n",
       "    </tr>\n",
       "    <tr>\n",
       "      <th>6</th>\n",
       "      <td>s7</td>\n",
       "      <td>Robert Cullen, José Luis Ucha</td>\n",
       "      <td>Children &amp; Family Movies</td>\n",
       "    </tr>\n",
       "    <tr>\n",
       "      <th>7</th>\n",
       "      <td>s8</td>\n",
       "      <td>Haile Gerima</td>\n",
       "      <td>Dramas, Independent Movies, International Movies</td>\n",
       "    </tr>\n",
       "    <tr>\n",
       "      <th>9</th>\n",
       "      <td>s10</td>\n",
       "      <td>Theodore Melfi</td>\n",
       "      <td>Comedies, Dramas</td>\n",
       "    </tr>\n",
       "    <tr>\n",
       "      <th>12</th>\n",
       "      <td>s13</td>\n",
       "      <td>Christian Schwochow</td>\n",
       "      <td>Dramas, International Movies</td>\n",
       "    </tr>\n",
       "    <tr>\n",
       "      <th>13</th>\n",
       "      <td>s14</td>\n",
       "      <td>Bruno Garotti</td>\n",
       "      <td>Children &amp; Family Movies, Comedies</td>\n",
       "    </tr>\n",
       "    <tr>\n",
       "      <th>16</th>\n",
       "      <td>s17</td>\n",
       "      <td>Pedro de Echave García, Pablo Azorín Williams</td>\n",
       "      <td>Documentaries, International Movies</td>\n",
       "    </tr>\n",
       "    <tr>\n",
       "      <th>18</th>\n",
       "      <td>s19</td>\n",
       "      <td>Adam Salky</td>\n",
       "      <td>Thrillers</td>\n",
       "    </tr>\n",
       "    <tr>\n",
       "      <th>22</th>\n",
       "      <td>s23</td>\n",
       "      <td>K.S. Ravikumar</td>\n",
       "      <td>Comedies, International Movies</td>\n",
       "    </tr>\n",
       "    <tr>\n",
       "      <th>23</th>\n",
       "      <td>s24</td>\n",
       "      <td>Alex Woo, Stanley Moore</td>\n",
       "      <td>Children &amp; Family Movies</td>\n",
       "    </tr>\n",
       "  </tbody>\n",
       "</table>\n",
       "</div>"
      ],
      "text/plain": [
       "   show_id                                       director  \\\n",
       "0       s1                                Kirsten Johnson   \n",
       "6       s7                  Robert Cullen, José Luis Ucha   \n",
       "7       s8                                   Haile Gerima   \n",
       "9      s10                                 Theodore Melfi   \n",
       "12     s13                            Christian Schwochow   \n",
       "13     s14                                  Bruno Garotti   \n",
       "16     s17  Pedro de Echave García, Pablo Azorín Williams   \n",
       "18     s19                                     Adam Salky   \n",
       "22     s23                                 K.S. Ravikumar   \n",
       "23     s24                        Alex Woo, Stanley Moore   \n",
       "\n",
       "                                           listed_in  \n",
       "0                                      Documentaries  \n",
       "6                           Children & Family Movies  \n",
       "7   Dramas, Independent Movies, International Movies  \n",
       "9                                   Comedies, Dramas  \n",
       "12                      Dramas, International Movies  \n",
       "13                Children & Family Movies, Comedies  \n",
       "16               Documentaries, International Movies  \n",
       "18                                         Thrillers  \n",
       "22                    Comedies, International Movies  \n",
       "23                          Children & Family Movies  "
      ]
     },
     "execution_count": 193,
     "metadata": {},
     "output_type": "execute_result"
    }
   ],
   "source": [
    "tripartite1 = netflix_data[netflix_data.type=='Movie'][['show_id', 'director', 'listed_in']]\n",
    "tripartite1.head(10)"
   ]
  },
  {
   "cell_type": "code",
   "execution_count": 194,
   "metadata": {},
   "outputs": [
    {
     "data": {
      "text/html": [
       "<div>\n",
       "<style scoped>\n",
       "    .dataframe tbody tr th:only-of-type {\n",
       "        vertical-align: middle;\n",
       "    }\n",
       "\n",
       "    .dataframe tbody tr th {\n",
       "        vertical-align: top;\n",
       "    }\n",
       "\n",
       "    .dataframe thead th {\n",
       "        text-align: right;\n",
       "    }\n",
       "</style>\n",
       "<table border=\"1\" class=\"dataframe\">\n",
       "  <thead>\n",
       "    <tr style=\"text-align: right;\">\n",
       "      <th></th>\n",
       "      <th>show_id</th>\n",
       "      <th>director</th>\n",
       "      <th>category</th>\n",
       "    </tr>\n",
       "  </thead>\n",
       "  <tbody>\n",
       "    <tr>\n",
       "      <th>0</th>\n",
       "      <td>s1</td>\n",
       "      <td>Kirsten Johnson</td>\n",
       "      <td>Documentaries</td>\n",
       "    </tr>\n",
       "    <tr>\n",
       "      <th>1</th>\n",
       "      <td>s7</td>\n",
       "      <td>Robert Cullen, José Luis Ucha</td>\n",
       "      <td>Children &amp; Family Movies</td>\n",
       "    </tr>\n",
       "    <tr>\n",
       "      <th>2</th>\n",
       "      <td>s8</td>\n",
       "      <td>Haile Gerima</td>\n",
       "      <td>Dramas</td>\n",
       "    </tr>\n",
       "    <tr>\n",
       "      <th>3</th>\n",
       "      <td>s8</td>\n",
       "      <td>Haile Gerima</td>\n",
       "      <td>Independent Movies</td>\n",
       "    </tr>\n",
       "    <tr>\n",
       "      <th>4</th>\n",
       "      <td>s8</td>\n",
       "      <td>Haile Gerima</td>\n",
       "      <td>International Movies</td>\n",
       "    </tr>\n",
       "    <tr>\n",
       "      <th>5</th>\n",
       "      <td>s10</td>\n",
       "      <td>Theodore Melfi</td>\n",
       "      <td>Comedies</td>\n",
       "    </tr>\n",
       "    <tr>\n",
       "      <th>6</th>\n",
       "      <td>s10</td>\n",
       "      <td>Theodore Melfi</td>\n",
       "      <td>Dramas</td>\n",
       "    </tr>\n",
       "    <tr>\n",
       "      <th>7</th>\n",
       "      <td>s13</td>\n",
       "      <td>Christian Schwochow</td>\n",
       "      <td>Dramas</td>\n",
       "    </tr>\n",
       "    <tr>\n",
       "      <th>8</th>\n",
       "      <td>s13</td>\n",
       "      <td>Christian Schwochow</td>\n",
       "      <td>International Movies</td>\n",
       "    </tr>\n",
       "    <tr>\n",
       "      <th>9</th>\n",
       "      <td>s14</td>\n",
       "      <td>Bruno Garotti</td>\n",
       "      <td>Children &amp; Family Movies</td>\n",
       "    </tr>\n",
       "  </tbody>\n",
       "</table>\n",
       "</div>"
      ],
      "text/plain": [
       "  show_id                       director                  category\n",
       "0      s1                Kirsten Johnson             Documentaries\n",
       "1      s7  Robert Cullen, José Luis Ucha  Children & Family Movies\n",
       "2      s8                   Haile Gerima                    Dramas\n",
       "3      s8                   Haile Gerima        Independent Movies\n",
       "4      s8                   Haile Gerima      International Movies\n",
       "5     s10                 Theodore Melfi                  Comedies\n",
       "6     s10                 Theodore Melfi                    Dramas\n",
       "7     s13            Christian Schwochow                    Dramas\n",
       "8     s13            Christian Schwochow      International Movies\n",
       "9     s14                  Bruno Garotti  Children & Family Movies"
      ]
     },
     "execution_count": 194,
     "metadata": {},
     "output_type": "execute_result"
    }
   ],
   "source": [
    "tripartite1.director = tripartite1.director.str.strip()\n",
    "tripartite1 = (tripartite1\n",
    "               .set_index(['show_id', 'director'])['listed_in']\n",
    "               .apply(lambda x: [s.strip() for s in x.split(',')])\n",
    "               .apply(pd.Series)\n",
    "               .stack()\n",
    "              )\n",
    "tripartite1 = tripartite1.reset_index()\n",
    "tripartite1.columns = ['show_id', 'director', 'sample_num', 'category']\n",
    "tripartite1 = tripartite1[['show_id', 'director', 'category']]\n",
    "tripartite1.head(10)"
   ]
  },
  {
   "cell_type": "code",
   "execution_count": 189,
   "metadata": {},
   "outputs": [],
   "source": [
    "filename = 'g_tripartite-1'\n",
    "filepath = f'../outputs/output_bnoc/{filename}/{filename}'\n",
    "generate_all_files(tripartite1, filepath)"
   ]
  },
  {
   "cell_type": "code",
   "execution_count": 190,
   "metadata": {},
   "outputs": [
    {
     "data": {
      "text/html": [
       "<div>\n",
       "<style scoped>\n",
       "    .dataframe tbody tr th:only-of-type {\n",
       "        vertical-align: middle;\n",
       "    }\n",
       "\n",
       "    .dataframe tbody tr th {\n",
       "        vertical-align: top;\n",
       "    }\n",
       "\n",
       "    .dataframe thead th {\n",
       "        text-align: right;\n",
       "    }\n",
       "</style>\n",
       "<table border=\"1\" class=\"dataframe\">\n",
       "  <thead>\n",
       "    <tr style=\"text-align: right;\">\n",
       "      <th></th>\n",
       "      <th>show_id</th>\n",
       "      <th>director</th>\n",
       "      <th>category</th>\n",
       "    </tr>\n",
       "  </thead>\n",
       "  <tbody>\n",
       "    <tr>\n",
       "      <th>0</th>\n",
       "      <td>0</td>\n",
       "      <td>6131</td>\n",
       "      <td>10486</td>\n",
       "    </tr>\n",
       "    <tr>\n",
       "      <th>1</th>\n",
       "      <td>1</td>\n",
       "      <td>6132</td>\n",
       "      <td>10487</td>\n",
       "    </tr>\n",
       "    <tr>\n",
       "      <th>2</th>\n",
       "      <td>2</td>\n",
       "      <td>6133</td>\n",
       "      <td>10488</td>\n",
       "    </tr>\n",
       "    <tr>\n",
       "      <th>3</th>\n",
       "      <td>2</td>\n",
       "      <td>6133</td>\n",
       "      <td>10489</td>\n",
       "    </tr>\n",
       "    <tr>\n",
       "      <th>4</th>\n",
       "      <td>2</td>\n",
       "      <td>6133</td>\n",
       "      <td>10490</td>\n",
       "    </tr>\n",
       "    <tr>\n",
       "      <th>5</th>\n",
       "      <td>3</td>\n",
       "      <td>6134</td>\n",
       "      <td>10491</td>\n",
       "    </tr>\n",
       "    <tr>\n",
       "      <th>6</th>\n",
       "      <td>3</td>\n",
       "      <td>6134</td>\n",
       "      <td>10488</td>\n",
       "    </tr>\n",
       "    <tr>\n",
       "      <th>7</th>\n",
       "      <td>4</td>\n",
       "      <td>6135</td>\n",
       "      <td>10488</td>\n",
       "    </tr>\n",
       "    <tr>\n",
       "      <th>8</th>\n",
       "      <td>4</td>\n",
       "      <td>6135</td>\n",
       "      <td>10490</td>\n",
       "    </tr>\n",
       "    <tr>\n",
       "      <th>9</th>\n",
       "      <td>5</td>\n",
       "      <td>6136</td>\n",
       "      <td>10487</td>\n",
       "    </tr>\n",
       "  </tbody>\n",
       "</table>\n",
       "</div>"
      ],
      "text/plain": [
       "  show_id director category\n",
       "0       0     6131    10486\n",
       "1       1     6132    10487\n",
       "2       2     6133    10488\n",
       "3       2     6133    10489\n",
       "4       2     6133    10490\n",
       "5       3     6134    10491\n",
       "6       3     6134    10488\n",
       "7       4     6135    10488\n",
       "8       4     6135    10490\n",
       "9       5     6136    10487"
      ]
     },
     "execution_count": 190,
     "metadata": {},
     "output_type": "execute_result"
    }
   ],
   "source": [
    "tripartite1.head(10)"
   ]
  }
 ],
 "metadata": {
  "kernelspec": {
   "display_name": "Python 3",
   "language": "python",
   "name": "python3"
  },
  "language_info": {
   "codemirror_mode": {
    "name": "ipython",
    "version": 3
   },
   "file_extension": ".py",
   "mimetype": "text/x-python",
   "name": "python",
   "nbconvert_exporter": "python",
   "pygments_lexer": "ipython3",
   "version": "3.9.7"
  }
 },
 "nbformat": 4,
 "nbformat_minor": 4
}
